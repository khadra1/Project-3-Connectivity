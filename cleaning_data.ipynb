{
 "cells": [
  {
   "cell_type": "code",
   "execution_count": 2,
   "id": "3fde1e0e",
   "metadata": {},
   "outputs": [],
   "source": [
    "#Import Dependencies\n",
    "import pandas as pd\n",
    "import json"
   ]
  },
  {
   "cell_type": "markdown",
   "id": "e81b8460",
   "metadata": {},
   "source": [
    "# Import the world countries internet data from the World Bank"
   ]
  },
  {
   "cell_type": "code",
   "execution_count": 3,
   "id": "17835d15",
   "metadata": {},
   "outputs": [],
   "source": [
    "# Import the countries internet data from world bank \n",
    "world_data = pd.read_csv('data/world_bank_internet_data.csv', skipfooter=446, engine='python')\n",
    "# Replace all \"..\" with 0\n",
    "world_data = world_data.replace(\"..\",0)\n",
    "#Rename the Country and Country Codes column to allow merging later on\n",
    "world_data.rename(columns={'Country Name': 'Country', 'Country Code': 'Codes'}, inplace=True)\n",
    "# Remove the brackets and the duplicated value in the Year columns \n",
    "world_data = world_data.rename(columns={col: col.split('[')[0] for col in world_data.columns})\n",
    "# Remove space in Year columns\n",
    "world_data.columns = world_data.columns.str.strip()\n",
    "cols = [3,4,5,6,7,8,9,10,11,12]\n",
    "world_data.drop(world_data.columns[cols],axis=1,inplace=True)\n"
   ]
  },
  {
   "cell_type": "code",
   "execution_count": 4,
   "id": "05dd76c6",
   "metadata": {},
   "outputs": [],
   "source": [
    "#Import the coordinate csv file, rename columns for merging with each other later on\n",
    "coordinates = pd.read_csv('data/world_country.csv')\n",
    "coordinates.rename(columns={'iso_con' : 'Codes', 'lat': 'Latitude', 'lon': 'Longitude'},inplace=True)\n",
    "coordinates.drop(columns=['Unnamed: 0', 'country'],inplace=True)\n"
   ]
  },
  {
   "cell_type": "code",
   "execution_count": 5,
   "id": "cb166a1c",
   "metadata": {},
   "outputs": [],
   "source": [
    "# Merge the coordinates with tHE world_data DataFrame\n",
    "final_world = pd.merge(world_data, coordinates, on='Codes', how='left')\n",
    "# Find out if there are any NaN values for Latitude and Longitude and then drop them \n",
    "final_world[final_world.isnull().any(axis=1)] \n",
    "final_world.dropna(subset=['Latitude','Longitude'],inplace=True)\n",
    "final_world.to_json(\"final_world.json\", orient=\"index\", indent=4)"
   ]
  },
  {
   "cell_type": "code",
   "execution_count": 6,
   "id": "c9143e19",
   "metadata": {},
   "outputs": [],
   "source": [
    "# Turn the Year columns into Rows\n",
    "data = pd.melt(final_world, id_vars=['Country', 'Codes','Series Name', 'Longitude', 'Latitude'], var_name='Year', value_name='Values')\n",
    "# Put all the values in the Values column to numeric\n",
    "# data['Values'] = pd.to_numeric(data['Values'])\n",
    "data.rename(columns={'Series Name': 'Series Name'},inplace=True)\n",
    "data['Year']=data['Year'].astype(int)\n",
    "data['Values']=data['Values'].astype(float)\n",
    "data.to_json(\"data.json\", orient=\"index\", indent=4)"
   ]
  },
  {
   "cell_type": "markdown",
   "id": "7afd6d93",
   "metadata": {},
   "source": [
    "# Import ITU Regional, Age and Gender Internet Usage Data"
   ]
  },
  {
   "cell_type": "markdown",
   "id": "675343f9",
   "metadata": {},
   "source": [
    "### Regions"
   ]
  },
  {
   "cell_type": "code",
   "execution_count": 67,
   "id": "ded27daf",
   "metadata": {},
   "outputs": [],
   "source": [
    "# Reading the ITU excel file region sheet to clean and turn into json object\n",
    "temp_df = pd.read_excel('data/ITU_regional_global_Key_ICT_indicator_aggregates_rev1_Jan_2022.xlsx', header=None, sheet_name = \"By BDT region\")\n",
    "\n",
    "# Getting the first table\n",
    "temp_df.iloc[3:10,0:18]\n",
    "# Getting the first column names\n",
    "table_name = temp_df.iloc[2,0]\n",
    "\n",
    "#dictionary of tables with key as table name and value as dataframe\n",
    "table_list = {}\n",
    "# year list\n",
    "year_list = list(range(2005,2022))\n",
    "# range start at 4(3), all the way to row 92 with a step of 9\n",
    "for i in range(4,92,9):\n",
    "    #table name, 2 rows from where the table start at 0 (1st) column\n",
    "    table_name = temp_df.iloc[i-2,0]\n",
    "    # selecting range of rows and range of columns to extract a table into a dataframe \n",
    "    region_df = temp_df.iloc[i:i+6,0:18]\n",
    "    region_df.reset_index(drop=True, inplace=True)\n",
    "    # Using year_list and table_name as column names\n",
    "    column_names= [table_name] + year_list\n",
    "    # Inserting column names\n",
    "    region_df.columns = column_names\n",
    "    table_list[table_name]= region_df"
   ]
  },
  {
   "cell_type": "markdown",
   "id": "c8b3ea25",
   "metadata": {},
   "source": [
    "### Gender"
   ]
  },
  {
   "cell_type": "code",
   "execution_count": 77,
   "id": "93102703",
   "metadata": {},
   "outputs": [],
   "source": [
    "# Reading the ITU excel file sex and age sheet to clean and turn into gender dataframe for data cleaning\n",
    "gender_df = pd.read_excel('data/ITU_regional_global_Key_ICT_indicator_aggregates_rev1_Jan_2022.xlsx', skiprows=(0,1), sheet_name=\"Internet use by sex & age\")"
   ]
  },
  {
   "cell_type": "code",
   "execution_count": 78,
   "id": "2c4d1f79",
   "metadata": {},
   "outputs": [],
   "source": [
    "# Get the gender tables from the excel file\n",
    "gender_df=gender_df.iloc[0:16,0:18] \n",
    "#Drop unnecessary columns\n",
    "cols = [1,2,3,4,5,6,7,8]\n",
    "gender_df.drop(gender_df.columns[cols],axis=1,inplace=True)\n",
    "# # Drop unnecessary rows\n",
    "gender_df = gender_df.drop(0)\n",
    "gender_df = gender_df.drop(1)\n",
    "gender_df = gender_df.drop(3)\n",
    "gender_df = gender_df.drop(4)\n",
    "gender_df = gender_df.drop(5)\n",
    "gender_df = gender_df.drop(6)\n",
    "gender_df = gender_df.drop(7)\n",
    "gender_df = gender_df.drop(8)\n",
    "gender_df = gender_df.drop(9)\n",
    "gender_df.columns=['Percentage of individuals using the Internet, by sex', '% Total 2020','% Female 2020','% Male 2020']\n",
    "gender_df.reset_index(inplace=True, drop=True)  "
   ]
  },
  {
   "cell_type": "markdown",
   "id": "93caa23e",
   "metadata": {},
   "source": [
    "### Age"
   ]
  },
  {
   "cell_type": "code",
   "execution_count": 12,
   "id": "aceb9ef1",
   "metadata": {},
   "outputs": [],
   "source": [
    "# Reading the ITU excel file sex and age sheet to clean and turn into age dataframe for data cleaning\n",
    "age_df = pd.read_excel('data/ITU_regional_global_Key_ICT_indicator_aggregates_rev1_Jan_2022.xlsx', skiprows=range(0,19),skipfooter=10 , sheet_name=\"Internet use by sex & age\")"
   ]
  },
  {
   "cell_type": "code",
   "execution_count": null,
   "id": "52283412",
   "metadata": {},
   "outputs": [],
   "source": [
    "# Get the age tables from the excel file\n",
    "age_df=age_df.iloc[3:17,0:8]\n",
    "age_df = age_df.drop(4)\n",
    "age_df = age_df.drop(5)\n",
    "age_df = age_df.drop(6)\n",
    "age_df = age_df.drop(7)\n",
    "age_df = age_df.drop(8)\n",
    "age_df = age_df.drop(9)\n",
    "age_df = age_df.drop(10)\n",
    "cols= [1,2,3,4]\n",
    "age_df.drop(age_df.columns[cols],axis=1,inplace=True)\n",
    "age_df.columns=[age_table_name,'% Total 2020','% Youth(15-24) 2020','% Rest of Population 2020']\n",
    "age_df.reset_index(inplace=True, drop=True)   "
   ]
  }
 ],
 "metadata": {
  "kernelspec": {
   "display_name": "PythonData",
   "language": "python",
   "name": "pythondata"
  },
  "language_info": {
   "codemirror_mode": {
    "name": "ipython",
    "version": 3
   },
   "file_extension": ".py",
   "mimetype": "text/x-python",
   "name": "python",
   "nbconvert_exporter": "python",
   "pygments_lexer": "ipython3",
   "version": "3.7.11"
  }
 },
 "nbformat": 4,
 "nbformat_minor": 5
}
